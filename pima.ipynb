{
 "cells": [
  {
   "cell_type": "code",
   "execution_count": 24,
   "metadata": {},
   "outputs": [],
   "source": [
    "import pandas as pd\n",
    "from keras.models import Sequential\n",
    "from keras.layers import Dense, Dropout, Activation\n",
    "from sklearn.preprocessing import MinMaxScaler, StandardScaler\n",
    "import numpy as np\n",
    "from keras.utils import to_categorical\n",
    "from keras.optimizers import SGD\n",
    "from sklearn.model_selection import StratifiedKFold\n",
    "from keras.callbacks import ModelCheckpoint, ReduceLROnPlateau, EarlyStopping\n",
    "from sklearn.utils import shuffle\n",
    "import matplotlib.pyplot as plt\n",
    "from sklearn.metrics import confusion_matrix, f1_score, precision_recall_fscore_support\n",
    "from keras.regularizers import l2\n",
    "from sklearn.cluster import KMeans\n",
    "from sklearn.decomposition import PCA"
   ]
  },
  {
   "cell_type": "code",
   "execution_count": 7,
   "metadata": {
    "collapsed": true
   },
   "outputs": [],
   "source": [
    "pima_df = pd.read_csv('diabetes.csv')\n",
    "pima_df = shuffle(pima_df)"
   ]
  },
  {
   "cell_type": "code",
   "execution_count": 8,
   "metadata": {
    "collapsed": true
   },
   "outputs": [],
   "source": [
    "labels = pima_df['Outcome']\n",
    "features = pima_df.drop('Outcome', axis = 1)"
   ]
  },
  {
   "cell_type": "code",
   "execution_count": 9,
   "metadata": {},
   "outputs": [
    {
     "data": {
      "text/html": [
       "<div>\n",
       "<style>\n",
       "    .dataframe thead tr:only-child th {\n",
       "        text-align: right;\n",
       "    }\n",
       "\n",
       "    .dataframe thead th {\n",
       "        text-align: left;\n",
       "    }\n",
       "\n",
       "    .dataframe tbody tr th {\n",
       "        vertical-align: top;\n",
       "    }\n",
       "</style>\n",
       "<table border=\"1\" class=\"dataframe\">\n",
       "  <thead>\n",
       "    <tr style=\"text-align: right;\">\n",
       "      <th></th>\n",
       "      <th>Pregnancies</th>\n",
       "      <th>Glucose</th>\n",
       "      <th>BloodPressure</th>\n",
       "      <th>SkinThickness</th>\n",
       "      <th>Insulin</th>\n",
       "      <th>BMI</th>\n",
       "      <th>DiabetesPedigreeFunction</th>\n",
       "      <th>Age</th>\n",
       "    </tr>\n",
       "  </thead>\n",
       "  <tbody>\n",
       "    <tr>\n",
       "      <th>92</th>\n",
       "      <td>7</td>\n",
       "      <td>81</td>\n",
       "      <td>78</td>\n",
       "      <td>40</td>\n",
       "      <td>48</td>\n",
       "      <td>46.7</td>\n",
       "      <td>0.261</td>\n",
       "      <td>42</td>\n",
       "    </tr>\n",
       "    <tr>\n",
       "      <th>756</th>\n",
       "      <td>7</td>\n",
       "      <td>137</td>\n",
       "      <td>90</td>\n",
       "      <td>41</td>\n",
       "      <td>0</td>\n",
       "      <td>32.0</td>\n",
       "      <td>0.391</td>\n",
       "      <td>39</td>\n",
       "    </tr>\n",
       "    <tr>\n",
       "      <th>425</th>\n",
       "      <td>4</td>\n",
       "      <td>184</td>\n",
       "      <td>78</td>\n",
       "      <td>39</td>\n",
       "      <td>277</td>\n",
       "      <td>37.0</td>\n",
       "      <td>0.264</td>\n",
       "      <td>31</td>\n",
       "    </tr>\n",
       "    <tr>\n",
       "      <th>545</th>\n",
       "      <td>8</td>\n",
       "      <td>186</td>\n",
       "      <td>90</td>\n",
       "      <td>35</td>\n",
       "      <td>225</td>\n",
       "      <td>34.5</td>\n",
       "      <td>0.423</td>\n",
       "      <td>37</td>\n",
       "    </tr>\n",
       "    <tr>\n",
       "      <th>734</th>\n",
       "      <td>2</td>\n",
       "      <td>105</td>\n",
       "      <td>75</td>\n",
       "      <td>0</td>\n",
       "      <td>0</td>\n",
       "      <td>23.3</td>\n",
       "      <td>0.560</td>\n",
       "      <td>53</td>\n",
       "    </tr>\n",
       "  </tbody>\n",
       "</table>\n",
       "</div>"
      ],
      "text/plain": [
       "     Pregnancies  Glucose  BloodPressure  SkinThickness  Insulin   BMI  \\\n",
       "92             7       81             78             40       48  46.7   \n",
       "756            7      137             90             41        0  32.0   \n",
       "425            4      184             78             39      277  37.0   \n",
       "545            8      186             90             35      225  34.5   \n",
       "734            2      105             75              0        0  23.3   \n",
       "\n",
       "     DiabetesPedigreeFunction  Age  \n",
       "92                      0.261   42  \n",
       "756                     0.391   39  \n",
       "425                     0.264   31  \n",
       "545                     0.423   37  \n",
       "734                     0.560   53  "
      ]
     },
     "execution_count": 9,
     "metadata": {},
     "output_type": "execute_result"
    }
   ],
   "source": [
    "features.head()"
   ]
  },
  {
   "cell_type": "code",
   "execution_count": 10,
   "metadata": {
    "collapsed": true
   },
   "outputs": [],
   "source": [
    "scaler = MinMaxScaler(feature_range=(.05, .95))\n",
    "\n",
    "continous = ['Glucose', 'BloodPressure', 'SkinThickness', 'Insulin', 'BMI', 'DiabetesPedigreeFunction', 'Age']"
   ]
  },
  {
   "cell_type": "code",
   "execution_count": 11,
   "metadata": {
    "collapsed": true
   },
   "outputs": [],
   "source": [
    "features[continous] = scaler.fit_transform(features[continous])"
   ]
  },
  {
   "cell_type": "code",
   "execution_count": 12,
   "metadata": {
    "collapsed": true
   },
   "outputs": [],
   "source": [
    "features = pd.get_dummies(features, columns = ['Pregnancies'])"
   ]
  },
  {
   "cell_type": "code",
   "execution_count": 13,
   "metadata": {},
   "outputs": [
    {
     "data": {
      "text/html": [
       "<div>\n",
       "<style>\n",
       "    .dataframe thead tr:only-child th {\n",
       "        text-align: right;\n",
       "    }\n",
       "\n",
       "    .dataframe thead th {\n",
       "        text-align: left;\n",
       "    }\n",
       "\n",
       "    .dataframe tbody tr th {\n",
       "        vertical-align: top;\n",
       "    }\n",
       "</style>\n",
       "<table border=\"1\" class=\"dataframe\">\n",
       "  <thead>\n",
       "    <tr style=\"text-align: right;\">\n",
       "      <th></th>\n",
       "      <th>Glucose</th>\n",
       "      <th>BloodPressure</th>\n",
       "      <th>SkinThickness</th>\n",
       "      <th>Insulin</th>\n",
       "      <th>BMI</th>\n",
       "      <th>DiabetesPedigreeFunction</th>\n",
       "      <th>Age</th>\n",
       "      <th>Pregnancies_0</th>\n",
       "      <th>Pregnancies_1</th>\n",
       "      <th>Pregnancies_2</th>\n",
       "      <th>...</th>\n",
       "      <th>Pregnancies_7</th>\n",
       "      <th>Pregnancies_8</th>\n",
       "      <th>Pregnancies_9</th>\n",
       "      <th>Pregnancies_10</th>\n",
       "      <th>Pregnancies_11</th>\n",
       "      <th>Pregnancies_12</th>\n",
       "      <th>Pregnancies_13</th>\n",
       "      <th>Pregnancies_14</th>\n",
       "      <th>Pregnancies_15</th>\n",
       "      <th>Pregnancies_17</th>\n",
       "    </tr>\n",
       "  </thead>\n",
       "  <tbody>\n",
       "    <tr>\n",
       "      <th>92</th>\n",
       "      <td>0.416332</td>\n",
       "      <td>0.625410</td>\n",
       "      <td>0.413636</td>\n",
       "      <td>0.101064</td>\n",
       "      <td>0.676379</td>\n",
       "      <td>0.120325</td>\n",
       "      <td>0.365</td>\n",
       "      <td>0</td>\n",
       "      <td>0</td>\n",
       "      <td>0</td>\n",
       "      <td>...</td>\n",
       "      <td>1</td>\n",
       "      <td>0</td>\n",
       "      <td>0</td>\n",
       "      <td>0</td>\n",
       "      <td>0</td>\n",
       "      <td>0</td>\n",
       "      <td>0</td>\n",
       "      <td>0</td>\n",
       "      <td>0</td>\n",
       "      <td>0</td>\n",
       "    </tr>\n",
       "    <tr>\n",
       "      <th>756</th>\n",
       "      <td>0.669598</td>\n",
       "      <td>0.713934</td>\n",
       "      <td>0.422727</td>\n",
       "      <td>0.050000</td>\n",
       "      <td>0.479210</td>\n",
       "      <td>0.170282</td>\n",
       "      <td>0.320</td>\n",
       "      <td>0</td>\n",
       "      <td>0</td>\n",
       "      <td>0</td>\n",
       "      <td>...</td>\n",
       "      <td>1</td>\n",
       "      <td>0</td>\n",
       "      <td>0</td>\n",
       "      <td>0</td>\n",
       "      <td>0</td>\n",
       "      <td>0</td>\n",
       "      <td>0</td>\n",
       "      <td>0</td>\n",
       "      <td>0</td>\n",
       "      <td>0</td>\n",
       "    </tr>\n",
       "    <tr>\n",
       "      <th>425</th>\n",
       "      <td>0.882161</td>\n",
       "      <td>0.625410</td>\n",
       "      <td>0.404545</td>\n",
       "      <td>0.344681</td>\n",
       "      <td>0.546274</td>\n",
       "      <td>0.121477</td>\n",
       "      <td>0.200</td>\n",
       "      <td>0</td>\n",
       "      <td>0</td>\n",
       "      <td>0</td>\n",
       "      <td>...</td>\n",
       "      <td>0</td>\n",
       "      <td>0</td>\n",
       "      <td>0</td>\n",
       "      <td>0</td>\n",
       "      <td>0</td>\n",
       "      <td>0</td>\n",
       "      <td>0</td>\n",
       "      <td>0</td>\n",
       "      <td>0</td>\n",
       "      <td>0</td>\n",
       "    </tr>\n",
       "    <tr>\n",
       "      <th>545</th>\n",
       "      <td>0.891206</td>\n",
       "      <td>0.713934</td>\n",
       "      <td>0.368182</td>\n",
       "      <td>0.289362</td>\n",
       "      <td>0.512742</td>\n",
       "      <td>0.182579</td>\n",
       "      <td>0.290</td>\n",
       "      <td>0</td>\n",
       "      <td>0</td>\n",
       "      <td>0</td>\n",
       "      <td>...</td>\n",
       "      <td>0</td>\n",
       "      <td>1</td>\n",
       "      <td>0</td>\n",
       "      <td>0</td>\n",
       "      <td>0</td>\n",
       "      <td>0</td>\n",
       "      <td>0</td>\n",
       "      <td>0</td>\n",
       "      <td>0</td>\n",
       "      <td>0</td>\n",
       "    </tr>\n",
       "    <tr>\n",
       "      <th>734</th>\n",
       "      <td>0.524874</td>\n",
       "      <td>0.603279</td>\n",
       "      <td>0.050000</td>\n",
       "      <td>0.050000</td>\n",
       "      <td>0.362519</td>\n",
       "      <td>0.235226</td>\n",
       "      <td>0.530</td>\n",
       "      <td>0</td>\n",
       "      <td>0</td>\n",
       "      <td>1</td>\n",
       "      <td>...</td>\n",
       "      <td>0</td>\n",
       "      <td>0</td>\n",
       "      <td>0</td>\n",
       "      <td>0</td>\n",
       "      <td>0</td>\n",
       "      <td>0</td>\n",
       "      <td>0</td>\n",
       "      <td>0</td>\n",
       "      <td>0</td>\n",
       "      <td>0</td>\n",
       "    </tr>\n",
       "  </tbody>\n",
       "</table>\n",
       "<p>5 rows × 24 columns</p>\n",
       "</div>"
      ],
      "text/plain": [
       "      Glucose  BloodPressure  SkinThickness   Insulin       BMI  \\\n",
       "92   0.416332       0.625410       0.413636  0.101064  0.676379   \n",
       "756  0.669598       0.713934       0.422727  0.050000  0.479210   \n",
       "425  0.882161       0.625410       0.404545  0.344681  0.546274   \n",
       "545  0.891206       0.713934       0.368182  0.289362  0.512742   \n",
       "734  0.524874       0.603279       0.050000  0.050000  0.362519   \n",
       "\n",
       "     DiabetesPedigreeFunction    Age  Pregnancies_0  Pregnancies_1  \\\n",
       "92                   0.120325  0.365              0              0   \n",
       "756                  0.170282  0.320              0              0   \n",
       "425                  0.121477  0.200              0              0   \n",
       "545                  0.182579  0.290              0              0   \n",
       "734                  0.235226  0.530              0              0   \n",
       "\n",
       "     Pregnancies_2       ...        Pregnancies_7  Pregnancies_8  \\\n",
       "92               0       ...                    1              0   \n",
       "756              0       ...                    1              0   \n",
       "425              0       ...                    0              0   \n",
       "545              0       ...                    0              1   \n",
       "734              1       ...                    0              0   \n",
       "\n",
       "     Pregnancies_9  Pregnancies_10  Pregnancies_11  Pregnancies_12  \\\n",
       "92               0               0               0               0   \n",
       "756              0               0               0               0   \n",
       "425              0               0               0               0   \n",
       "545              0               0               0               0   \n",
       "734              0               0               0               0   \n",
       "\n",
       "     Pregnancies_13  Pregnancies_14  Pregnancies_15  Pregnancies_17  \n",
       "92                0               0               0               0  \n",
       "756               0               0               0               0  \n",
       "425               0               0               0               0  \n",
       "545               0               0               0               0  \n",
       "734               0               0               0               0  \n",
       "\n",
       "[5 rows x 24 columns]"
      ]
     },
     "execution_count": 13,
     "metadata": {},
     "output_type": "execute_result"
    }
   ],
   "source": [
    "features.head()"
   ]
  },
  {
   "cell_type": "code",
   "execution_count": 14,
   "metadata": {
    "collapsed": true
   },
   "outputs": [],
   "source": [
    "split_num = 0.9\n",
    "test_train_split = int(len(features)* split_num)\n",
    "train_features, test_features = features[:test_train_split], features[test_train_split:]\n",
    "train_labels, test_labels = labels[:test_train_split], labels[test_train_split:]"
   ]
  },
  {
   "cell_type": "code",
   "execution_count": 15,
   "metadata": {},
   "outputs": [],
   "source": [
    "input_shape = features.shape[1]"
   ]
  },
  {
   "cell_type": "code",
   "execution_count": 415,
   "metadata": {
    "collapsed": true
   },
   "outputs": [],
   "source": [
    "model = Sequential()\n",
    "model.add(Dense(32, input_shape = (input_shape,), activation = 'relu', activity_regularizer = l2(0.001)))#24\n",
    "model.add(Dropout(.5))\n",
    "model.add(Dense(64, activation = 'relu', activity_regularizer = l2(0.001)))#32\n",
    "model.add(Dropout(.5))\n",
    "model.add(Dense(1, activation = 'sigmoid'))"
   ]
  },
  {
   "cell_type": "code",
   "execution_count": 416,
   "metadata": {
    "collapsed": true
   },
   "outputs": [],
   "source": [
    "model.compile(loss = 'binary_crossentropy', optimizer = SGD(lr=0.001, momentum = 0.9), metrics = ['accuracy'])"
   ]
  },
  {
   "cell_type": "code",
   "execution_count": 417,
   "metadata": {
    "collapsed": true
   },
   "outputs": [],
   "source": [
    "checkpointer = ModelCheckpoint(filepath = 'pima_weights.hdf5', monitor = 'val_loss', save_best_only = True)"
   ]
  },
  {
   "cell_type": "code",
   "execution_count": 418,
   "metadata": {
    "collapsed": true
   },
   "outputs": [],
   "source": [
    "history = model.fit(train_features, train_labels, epochs = 5000, validation_split = 0.15, batch_size = 32, verbose = 0, callbacks = [checkpointer])"
   ]
  },
  {
   "cell_type": "code",
   "execution_count": 419,
   "metadata": {},
   "outputs": [
    {
     "data": {
      "image/png": "[encoded data removed]",
      "text/plain": [
       "<matplotlib.figure.Figure at 0x1a34b1d810>"
      ]
     },
     "metadata": {},
     "output_type": "display_data"
    }
   ],
   "source": [
    "plt.plot(history.history['acc'], label = 'Accuracy')\n",
    "plt.plot(history.history['val_acc'], label = 'Validation')\n",
    "plt.plot(history.history['val_loss'], label = 'Loss')\n",
    "plt.xlabel('epoch')\n",
    "plt.ylabel('acc/loss')\n",
    "plt.legend()\n",
    "plt.show()"
   ]
  },
  {
   "cell_type": "code",
   "execution_count": 420,
   "metadata": {},
   "outputs": [
    {
     "name": "stdout",
     "output_type": "stream",
     "text": [
      "77/77 [==============================] - 0s 97us/step\n"
     ]
    },
    {
     "data": {
      "text/plain": [
       "[0.66701691878306402, 0.72727272882089988]"
      ]
     },
     "execution_count": 420,
     "metadata": {},
     "output_type": "execute_result"
    }
   ],
   "source": [
    "score = model.evaluate(test_features, test_labels)\n",
    "score"
   ]
  },
  {
   "cell_type": "code",
   "execution_count": 421,
   "metadata": {
    "collapsed": true
   },
   "outputs": [],
   "source": [
    "model.load_weights('pima_weights.hdf5')"
   ]
  },
  {
   "cell_type": "code",
   "execution_count": 423,
   "metadata": {},
   "outputs": [
    {
     "name": "stdout",
     "output_type": "stream",
     "text": [
      "77/77 [==============================] - 0s 89us/step\n"
     ]
    },
    {
     "data": {
      "text/plain": [
       "[0.56149897753418265, 0.76623376700785251]"
      ]
     },
     "execution_count": 423,
     "metadata": {},
     "output_type": "execute_result"
    }
   ],
   "source": [
    "score = model.evaluate(test_features, test_labels)\n",
    "score"
   ]
  },
  {
   "cell_type": "code",
   "execution_count": 452,
   "metadata": {
    "collapsed": true
   },
   "outputs": [],
   "source": [
    "evals = []\n",
    "preds = model.predict(test_features)\n",
    "for i in preds:\n",
    "    if i > .5:\n",
    "        evals.append(1)\n",
    "    else:\n",
    "        evals.append(0)"
   ]
  },
  {
   "cell_type": "code",
   "execution_count": 453,
   "metadata": {},
   "outputs": [
    {
     "data": {
      "text/plain": [
       "array([[41,  8],\n",
       "       [10, 18]])"
      ]
     },
     "execution_count": 453,
     "metadata": {},
     "output_type": "execute_result"
    }
   ],
   "source": [
    "cm = confusion_matrix(test_labels, evals)\n",
    "cm"
   ]
  },
  {
   "cell_type": "code",
   "execution_count": 455,
   "metadata": {},
   "outputs": [
    {
     "data": {
      "text/plain": [
       "(array([ 0.80392157,  0.69230769]),\n",
       " array([ 0.83673469,  0.64285714]),\n",
       " array([ 0.82      ,  0.66666667]),\n",
       " array([49, 28]))"
      ]
     },
     "execution_count": 455,
     "metadata": {},
     "output_type": "execute_result"
    }
   ],
   "source": [
    "precision_recall_fscore_support(test_labels, evals)"
   ]
  },
  {
   "cell_type": "code",
   "execution_count": 197,
   "metadata": {},
   "outputs": [
    {
     "name": "stdout",
     "output_type": "stream",
     "text": [
      "acc: 74.03%\n",
      "acc: 75.32%\n",
      "acc: 81.82%\n",
      "acc: 77.92%\n",
      "acc: 75.32%\n",
      "acc: 74.03%\n",
      "acc: 81.82%\n",
      "acc: 74.03%\n",
      "acc: 75.00%\n",
      "acc: 80.26%\n",
      "76.95% (+/- 3.07%)\n"
     ]
    }
   ],
   "source": [
    "seed = 42\n",
    "np.random.seed(seed)\n",
    "\n",
    "kfold = StratifiedKFold(n_splits=10, shuffle=True, random_state=seed)\n",
    "cvscores = []\n",
    "X = np.array(features)\n",
    "y = np.array(labels)\n",
    "for train, test in kfold.split(X, y):\n",
    "    \n",
    "    model = Sequential()\n",
    "    model.add(Dense(24, input_shape = (input_shape,), activation = 'relu', activity_regularizer = l2(0.001)))#24\n",
    "    model.add(Dropout(.4))\n",
    "    model.add(Dense(32, activation = 'relu', activity_regularizer = l2(0.001)))#32\n",
    "    model.add(Dropout(.4))\n",
    "    model.add(Dense(1, activation = 'sigmoid'))\n",
    "    \n",
    "    model.compile(loss = 'binary_crossentropy', optimizer = SGD(lr=0.001, momentum = 0.9), metrics = ['accuracy'])\n",
    "    model.fit(X[train], y[train], epochs = 5000, batch_size = 32, verbose = 0)\n",
    "\n",
    "    scores = model.evaluate(X[test], y[test], verbose=0)\n",
    "    print(\"%s: %.2f%%\" % (model.metrics_names[1], scores[1]*100))\n",
    "    cvscores.append(scores[1] * 100)\n",
    "print(\"%.2f%% (+/- %.2f%%)\" % (np.mean(cvscores), np.std(cvscores)))"
   ]
  },
  {
   "cell_type": "code",
   "execution_count": null,
   "metadata": {
    "collapsed": true
   },
   "outputs": [],
   "source": [
    "acc: 72.73%\n",
    "acc: 74.03%\n",
    "acc: 79.22%\n",
    "acc: 75.32%\n",
    "acc: 75.32%\n",
    "acc: 76.62%\n",
    "acc: 81.82%\n",
    "acc: 72.73%\n",
    "acc: 75.00%\n",
    "acc: 85.53%\n",
    "76.83% (+/- 3.95%)"
   ]
  }
 ],
 "metadata": {
  "kernelspec": {
   "display_name": "Python 2",
   "language": "python",
   "name": "python2"
  },
  "language_info": {
   "codemirror_mode": {
    "name": "ipython",
    "version": 2
   },
   "file_extension": ".py",
   "mimetype": "text/x-python",
   "name": "python",
   "nbconvert_exporter": "python",
   "pygments_lexer": "ipython2",
   "version": "2.7.14"
  }
 },
 "nbformat": 4,
 "nbformat_minor": 2
}
